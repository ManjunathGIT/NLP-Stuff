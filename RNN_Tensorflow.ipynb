{
 "cells": [
  {
   "cell_type": "code",
   "execution_count": 21,
   "metadata": {
    "collapsed": true
   },
   "outputs": [],
   "source": [
    "import numpy as np\n",
    "import tensorflow as tf\n",
    "import collections"
   ]
  },
  {
   "cell_type": "markdown",
   "metadata": {},
   "source": [
    "## Obtaining Pretrained Word Vectors Through GloVe "
   ]
  },
  {
   "cell_type": "markdown",
   "metadata": {},
   "source": [
    "First, before we go into RNNs, we need to obtain some pretrained word vectors. Each of them will be 50 dimensional. We're going to store the words and the corresponding vector in a Python dictionary"
   ]
  },
  {
   "cell_type": "code",
   "execution_count": 22,
   "metadata": {
    "collapsed": false
   },
   "outputs": [],
   "source": [
    "filename = 'glove.6B.50d.txt' #This text file has to be in the same folder. You can download it from \n",
    "                              #here: http://nlp.stanford.edu/projects/glove/ \n",
    "numWords = 400000\n",
    "numDimensions = 50\n",
    "fin=open(filename,'r')\n",
    "wordList=[] #Just contains a list of all the words \n",
    "wordVectorMatrix = np.zeros((numWords + 1,numDimensions)) # numWords+1 x numDimensions matrix representing the word vector matrix\n",
    "wordVectorDictionary = collections.defaultdict(list)\n",
    "with open(filename) as inputfile:\n",
    "    index = 0\n",
    "    for line in inputfile:\n",
    "        split = line.split()\n",
    "        word = (split[0])\n",
    "        wordList.append(word)\n",
    "        listValues = split[1:]\n",
    "        listValues = map(float, listValues)\n",
    "        wordVectorMatrix[index] = listValues\n",
    "        wordVectorDictionary[word] = listValues\n",
    "        index += 1"
   ]
  },
  {
   "cell_type": "code",
   "execution_count": 23,
   "metadata": {
    "collapsed": false
   },
   "outputs": [
    {
     "data": {
      "text/plain": [
       "[-1.9327,\n",
       " 1.0421,\n",
       " -0.78515,\n",
       " 0.91033,\n",
       " 0.22711,\n",
       " -0.62158,\n",
       " -1.6493,\n",
       " 0.07686,\n",
       " -0.5868,\n",
       " 0.058831,\n",
       " 0.35628,\n",
       " 0.68916,\n",
       " -0.50598,\n",
       " 0.70473,\n",
       " 1.2664,\n",
       " -0.40031,\n",
       " -0.020687,\n",
       " 0.80863,\n",
       " -0.90566,\n",
       " -0.074054,\n",
       " -0.87675,\n",
       " -0.6291,\n",
       " -0.12685,\n",
       " 0.11524,\n",
       " -0.55685,\n",
       " -1.6826,\n",
       " -0.26291,\n",
       " 0.22632,\n",
       " 0.713,\n",
       " -1.0828,\n",
       " 2.1231,\n",
       " 0.49869,\n",
       " 0.066711,\n",
       " -0.48226,\n",
       " -0.17897,\n",
       " 0.47699,\n",
       " 0.16384,\n",
       " 0.16537,\n",
       " -0.11506,\n",
       " -0.15962,\n",
       " -0.94926,\n",
       " -0.42833,\n",
       " -0.59457,\n",
       " 1.3566,\n",
       " -0.27506,\n",
       " 0.19918,\n",
       " -0.36008,\n",
       " 0.55667,\n",
       " -0.70315,\n",
       " 0.17157]"
      ]
     },
     "execution_count": 23,
     "metadata": {},
     "output_type": "execute_result"
    }
   ],
   "source": [
    "wordVectorDictionary[\"baseball\"]"
   ]
  },
  {
   "cell_type": "code",
   "execution_count": 20,
   "metadata": {
    "collapsed": false
   },
   "outputs": [
    {
     "ename": "NameError",
     "evalue": "name 'init_state' is not defined",
     "output_type": "error",
     "traceback": [
      "\u001b[0;31m---------------------------------------------------------------------------\u001b[0m",
      "\u001b[0;31mNameError\u001b[0m                                 Traceback (most recent call last)",
      "\u001b[0;32m<ipython-input-20-6eec85274ce7>\u001b[0m in \u001b[0;36m<module>\u001b[0;34m()\u001b[0m\n\u001b[1;32m      1\u001b[0m \u001b[0mstate_size\u001b[0m \u001b[0;34m=\u001b[0m \u001b[0;36m10\u001b[0m\u001b[0;34m\u001b[0m\u001b[0m\n\u001b[1;32m      2\u001b[0m \u001b[0mcell\u001b[0m \u001b[0;34m=\u001b[0m \u001b[0mtf\u001b[0m\u001b[0;34m.\u001b[0m\u001b[0mnn\u001b[0m\u001b[0;34m.\u001b[0m\u001b[0mrnn_cell\u001b[0m\u001b[0;34m.\u001b[0m\u001b[0mBasicRNNCell\u001b[0m\u001b[0;34m(\u001b[0m\u001b[0mstate_size\u001b[0m\u001b[0;34m)\u001b[0m\u001b[0;34m\u001b[0m\u001b[0m\n\u001b[0;32m----> 3\u001b[0;31m \u001b[0mrnn_outputs\u001b[0m\u001b[0;34m,\u001b[0m \u001b[0mfinal_state\u001b[0m \u001b[0;34m=\u001b[0m \u001b[0mtf\u001b[0m\u001b[0;34m.\u001b[0m\u001b[0mnn\u001b[0m\u001b[0;34m.\u001b[0m\u001b[0mrnn\u001b[0m\u001b[0;34m(\u001b[0m\u001b[0mcell\u001b[0m\u001b[0;34m,\u001b[0m \u001b[0mrnn_input\u001b[0m\u001b[0;34m,\u001b[0m \u001b[0minitial_state\u001b[0m\u001b[0;34m=\u001b[0m\u001b[0minit_state\u001b[0m\u001b[0;34m)\u001b[0m\u001b[0;34m\u001b[0m\u001b[0m\n\u001b[0m",
      "\u001b[0;31mNameError\u001b[0m: name 'init_state' is not defined"
     ]
    }
   ],
   "source": [
    "state_size = 10\n",
    "cell = tf.nn.rnn_cell.BasicRNNCell(state_size)\n",
    "rnn_outputs, final_state = tf.nn.rnn(cell, rnn_input, initial_state=init_state)"
   ]
  },
  {
   "cell_type": "code",
   "execution_count": null,
   "metadata": {
    "collapsed": true
   },
   "outputs": [],
   "source": []
  }
 ],
 "metadata": {
  "kernelspec": {
   "display_name": "Python 2",
   "language": "python",
   "name": "python2"
  },
  "language_info": {
   "codemirror_mode": {
    "name": "ipython",
    "version": 2
   },
   "file_extension": ".py",
   "mimetype": "text/x-python",
   "name": "python",
   "nbconvert_exporter": "python",
   "pygments_lexer": "ipython2",
   "version": "2.7.6"
  }
 },
 "nbformat": 4,
 "nbformat_minor": 1
}
