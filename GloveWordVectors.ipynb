{
 "cells": [
  {
   "cell_type": "code",
   "execution_count": 2,
   "metadata": {
    "collapsed": true
   },
   "outputs": [],
   "source": [
    "#Here, we're going to import pretrained Glove word vectors\n",
    "import numpy as np\n",
    "import collections\n",
    "import operator\n",
    "import json"
   ]
  },
  {
   "cell_type": "code",
   "execution_count": 3,
   "metadata": {
    "collapsed": true
   },
   "outputs": [],
   "source": [
    "filename = 'glove.6B.50d.txt' #This text file has to be in the same folder. You can download it from \n",
    "                              #here: http://nlp.stanford.edu/projects/glove/ \n",
    "numWords = 400000\n",
    "numDimensions = 50"
   ]
  },
  {
   "cell_type": "code",
   "execution_count": 4,
   "metadata": {
    "collapsed": false,
    "scrolled": true
   },
   "outputs": [
    {
     "data": {
      "text/plain": [
       "'the 0.418 0.24968 -0.41242 0.1217 0.34527 -0.044457 -0.49688 -0.17862 -0.00066023 -0.6566 0.27843 -0.14767 -0.55677 0.14658 -0.0095095 0.011658 0.10204 -0.12792 -0.8443 -0.12181 -0.016801 -0.33279 -0.1552 -0.23131 -0.19181 -1.8823 -0.76746 0.099051 -0.42125 -0.19526 4.0071 -0.18594 -0.52287 -0.31681 0.00059213 0.0074449 0.17778 -0.15897 0.012041 -0.054223 -0.29871 -0.15749 -0.34758 -0.045637 -0.44251 0.18785 0.0027849 -0.18411 -0.11514 -0.78581\\n'"
      ]
     },
     "execution_count": 4,
     "metadata": {},
     "output_type": "execute_result"
    }
   ],
   "source": [
    "fin=open(filename,'r')\n",
    "firstWord = fin.readline()\n",
    "firstWord"
   ]
  },
  {
   "cell_type": "code",
   "execution_count": 5,
   "metadata": {
    "collapsed": false
   },
   "outputs": [],
   "source": [
    "wordList=[] #Just contains a list of all the words \n",
    "wordVectorMatrix = np.zeros((numWords + 1,numDimensions)) # numWords+1 x numDimensions matrix representing the word vector matrix\n",
    "wordVectorDictionary = collections.defaultdict(list)\n",
    "with open(filename) as inputfile:\n",
    "    index = 0\n",
    "    for line in inputfile:\n",
    "        split = line.split()\n",
    "        word = (split[0])\n",
    "        wordList.append(word)\n",
    "        listValues = split[1:]\n",
    "        listValues = map(float, listValues)\n",
    "        wordVectorMatrix[index] = listValues\n",
    "        wordVectorDictionary[word] = listValues\n",
    "        index += 1"
   ]
  },
  {
   "cell_type": "code",
   "execution_count": 6,
   "metadata": {
    "collapsed": false
   },
   "outputs": [
    {
     "data": {
      "text/plain": [
       "[('football', 26.777613599530007),\n",
       " ('nba', 26.487108780520003),\n",
       " ('basketball', 26.447124744584009),\n",
       " ('nfl', 25.749385967497005),\n",
       " ('league', 25.696446833010008),\n",
       " ('game', 25.177584992159996),\n",
       " ('games', 24.951053061493003),\n",
       " ('season', 24.638100697730007),\n",
       " ('yankees', 24.499251230989998),\n",
       " ('hockey', 24.327558379134)]"
      ]
     },
     "execution_count": 6,
     "metadata": {},
     "output_type": "execute_result"
    }
   ],
   "source": [
    "def findClosestWords(word, numWords): #Finds closest words through dot products\n",
    "    indexOfWord = wordList.index(word)\n",
    "    wordVector = wordVectorMatrix[indexOfWord]\n",
    "    similarityDictionary = {}\n",
    "    for i, item in enumerate(wordVectorMatrix):\n",
    "        if i == indexOfWord:\n",
    "            continue\n",
    "        closeness = np.dot(wordVector, item)\n",
    "        similarityDictionary[wordList[i]] = closeness\n",
    "    sorted_words = sorted(similarityDictionary.items(), key=operator.itemgetter(1)) #Sort by values\n",
    "    sorted_words.reverse()\n",
    "    return sorted_words[:numWords]\n",
    "        \n",
    "closestWordList = findClosestWords('baseball', 10)\n",
    "closestWordList"
   ]
  },
  {
   "cell_type": "code",
   "execution_count": 7,
   "metadata": {
    "collapsed": false
   },
   "outputs": [
    {
     "data": {
      "text/plain": [
       "[('basketball', 2.9194344904383334),\n",
       " ('nba', 3.0309063106135437),\n",
       " ('nfl', 3.2376957377299984),\n",
       " ('hockey', 3.6261607998283805),\n",
       " ('fame', 3.649830145696646),\n",
       " ('football', 3.718578193888761),\n",
       " ('yankees', 3.7635206780822932),\n",
       " ('sox', 3.8444814685081798),\n",
       " ('giants', 3.9589261475830786),\n",
       " ('league', 4.057579591482094)]"
      ]
     },
     "execution_count": 7,
     "metadata": {},
     "output_type": "execute_result"
    }
   ],
   "source": [
    "def findClosestWords(word, numWords): #Finds closest words through distance metrics\n",
    "    indexOfWord = wordList.index(word)\n",
    "    wordVector = wordVectorMatrix[indexOfWord]\n",
    "    similarityDictionary = {}\n",
    "    for i in range(0,400000):\n",
    "        if i == indexOfWord:\n",
    "            continue\n",
    "        closeness = np.linalg.norm(wordVector-wordVectorMatrix[i])\n",
    "        similarityDictionary[wordList[i]] = closeness\n",
    "    sorted_words = sorted(similarityDictionary.items(), key=operator.itemgetter(1)) #Sort by values\n",
    "    return sorted_words[:numWords]\n",
    "        \n",
    "closestWordList = findClosestWords('baseball', 10)\n",
    "closestWordList"
   ]
  },
  {
   "cell_type": "code",
   "execution_count": null,
   "metadata": {
    "collapsed": true
   },
   "outputs": [],
   "source": [
    "# Writing JSON data\n",
    "#with open('data.json', 'w') as f:\n",
    "#     json.dump(closestWordList, f)\n"
   ]
  },
  {
   "cell_type": "code",
   "execution_count": 9,
   "metadata": {
    "collapsed": false
   },
   "outputs": [
    {
     "data": {
      "text/plain": [
       "1572"
      ]
     },
     "execution_count": 9,
     "metadata": {},
     "output_type": "execute_result"
    }
   ],
   "source": [
    "index1 = wordList.index(\"currency\")\n",
    "index1"
   ]
  },
  {
   "cell_type": "code",
   "execution_count": 13,
   "metadata": {
    "collapsed": false
   },
   "outputs": [
    {
     "data": {
      "text/plain": [
       "308"
      ]
     },
     "execution_count": 13,
     "metadata": {},
     "output_type": "execute_result"
    }
   ],
   "source": [
    "index2 = wordList.index(\"\")\n",
    "index2"
   ]
  },
  {
   "cell_type": "code",
   "execution_count": null,
   "metadata": {
    "collapsed": true
   },
   "outputs": [],
   "source": []
  }
 ],
 "metadata": {
  "kernelspec": {
   "display_name": "Python 2",
   "language": "python",
   "name": "python2"
  },
  "language_info": {
   "codemirror_mode": {
    "name": "ipython",
    "version": 2
   },
   "file_extension": ".py",
   "mimetype": "text/x-python",
   "name": "python",
   "nbconvert_exporter": "python",
   "pygments_lexer": "ipython2",
   "version": "2.7.6"
  }
 },
 "nbformat": 4,
 "nbformat_minor": 1
}
