{
 "cells": [
  {
   "cell_type": "code",
   "execution_count": 24,
   "metadata": {
    "collapsed": true
   },
   "outputs": [],
   "source": [
    "import numpy as np\n",
    "import matplotlib.pyplot as plt\n",
    "%matplotlib inline\n",
    "la = np.linalg"
   ]
  },
  {
   "cell_type": "code",
   "execution_count": 25,
   "metadata": {
    "collapsed": true
   },
   "outputs": [],
   "source": [
    "sentences = [\"I like deep learning\",\n",
    "            \"I like NLP\",\n",
    "            \"I enjoy flying\"]"
   ]
  },
  {
   "cell_type": "code",
   "execution_count": 36,
   "metadata": {
    "collapsed": false
   },
   "outputs": [
    {
     "data": {
      "text/plain": [
       "{'I', 'NLP', 'deep', 'enjoy', 'flying', 'learning', 'like'}"
      ]
     },
     "execution_count": 36,
     "metadata": {},
     "output_type": "execute_result"
    }
   ],
   "source": [
    "unique_words_set=set()\n",
    "for sent in sentences:\n",
    "    words = sent.split()\n",
    "    for word in words:\n",
    "        unique_words_set.add(word)\n",
    "unique_words_set"
   ]
  },
  {
   "cell_type": "code",
   "execution_count": 42,
   "metadata": {
    "collapsed": false
   },
   "outputs": [
    {
     "data": {
      "text/plain": [
       "['enjoy', 'NLP', 'like', 'I', 'flying', 'deep', 'learning']"
      ]
     },
     "execution_count": 42,
     "metadata": {},
     "output_type": "execute_result"
    }
   ],
   "source": [
    "unique_words_list = list(unique_words_set)\n",
    "unique_words_list"
   ]
  },
  {
   "cell_type": "code",
   "execution_count": 43,
   "metadata": {
    "collapsed": false
   },
   "outputs": [
    {
     "data": {
      "text/plain": [
       "array([[ 0.,  0.,  0.,  1.,  1.,  0.,  0.],\n",
       "       [ 0.,  0.,  1.,  0.,  0.,  0.,  0.],\n",
       "       [ 0.,  1.,  0.,  2.,  0.,  1.,  0.],\n",
       "       [ 1.,  0.,  2.,  0.,  0.,  0.,  0.],\n",
       "       [ 1.,  0.,  0.,  0.,  0.,  0.,  0.],\n",
       "       [ 0.,  0.,  1.,  0.,  0.,  0.,  1.],\n",
       "       [ 0.,  0.,  0.,  0.,  0.,  1.,  0.]])"
      ]
     },
     "execution_count": 43,
     "metadata": {},
     "output_type": "execute_result"
    }
   ],
   "source": [
    "dimension = len(unique_words_list)\n",
    "coocurrenceMatrix = np.zeros((dimension, dimension))\n",
    "for sent in sentences:\n",
    "    words = sent.split()\n",
    "    for i in range(0,len(words)):\n",
    "        index = unique_words_list.index(words[i])\n",
    "        if (i == 0): #Only compare to right words[i+1]\n",
    "            coocurrenceMatrix[index][unique_words_list.index(words[i+1])] += 1\n",
    "            continue\n",
    "        if (i == len(words) - 1): #Only compare to left words[i-1]\n",
    "            coocurrenceMatrix[index][unique_words_list.index(words[i-1])] += 1\n",
    "            continue\n",
    "        coocurrenceMatrix[index][unique_words_list.index(words[i+1])] += 1\n",
    "        coocurrenceMatrix[index][unique_words_list.index(words[i-1])] += 1\n",
    "coocurrenceMatrix"
   ]
  },
  {
   "cell_type": "code",
   "execution_count": 44,
   "metadata": {
    "collapsed": true
   },
   "outputs": [],
   "source": [
    "U, s, Vh = la.svd(coocurrenceMatrix, full_matrices=False)"
   ]
  },
  {
   "cell_type": "code",
   "execution_count": 45,
   "metadata": {
    "collapsed": false
   },
   "outputs": [
    {
     "data": {
      "image/png": "[encoded data removed]",
      "text/plain": [
       "<matplotlib.figure.Figure at 0x84b6c18>"
      ]
     },
     "metadata": {},
     "output_type": "display_data"
    }
   ],
   "source": [
    "plt.ylim((-1,1))\n",
    "plt.xlim((-1,1))\n",
    "for i in xrange(len(unique_words_list)):\n",
    "    plt.text(U[i,0], U[i,1], unique_words_list[i])"
   ]
  },
  {
   "cell_type": "code",
   "execution_count": null,
   "metadata": {
    "collapsed": true
   },
   "outputs": [],
   "source": []
  }
 ],
 "metadata": {
  "kernelspec": {
   "display_name": "Python [Root]",
   "language": "python",
   "name": "Python [Root]"
  },
  "language_info": {
   "codemirror_mode": {
    "name": "ipython",
    "version": 2
   },
   "file_extension": ".py",
   "mimetype": "text/x-python",
   "name": "python",
   "nbconvert_exporter": "python",
   "pygments_lexer": "ipython2",
   "version": "2.7.12"
  }
 },
 "nbformat": 4,
 "nbformat_minor": 0
}
